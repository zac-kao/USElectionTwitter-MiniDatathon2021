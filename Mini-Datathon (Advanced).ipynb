{
 "cells": [
  {
   "cell_type": "markdown",
   "metadata": {},
   "source": [
    "# MDSS Mini-Datathon 2021\n",
    "\n",
    "URL Link to Mini-Datathon Kaggle competition: https://www.kaggle.com/c/us-election-twitter-mini-datathon-advanced\n",
    "\n",
    "Submitted by Zac Kao\n",
    "\n",
    "13 March 2021"
   ]
  },
  {
   "cell_type": "markdown",
   "metadata": {},
   "source": [
    "## 1. Import libraries"
   ]
  },
  {
   "cell_type": "code",
   "execution_count": 1,
   "metadata": {},
   "outputs": [],
   "source": [
    "import pandas as pd\n",
    "import re\n",
    "import ast\n",
    "from nltk.corpus import stopwords\n",
    "from nltk.tokenize.casual import TweetTokenizer\n",
    "from nltk.stem.porter import PorterStemmer\n",
    "from nltk.stem import WordNetLemmatizer\n",
    "from nltk import pos_tag, sent_tokenize\n",
    "\n",
    "from sklearn.pipeline import Pipeline\n",
    "from sklearn.feature_extraction.text import TfidfVectorizer\n",
    "from sklearn.linear_model import SGDClassifier\n",
    "from sklearn.svm import LinearSVC, SVC\n",
    "from sklearn.metrics import accuracy_score\n",
    "from sklearn.neural_network import MLPClassifier\n",
    "from sklearn.model_selection import train_test_split\n",
    "\n",
    "pd.set_option('display.max_colwidth', None)"
   ]
  },
  {
   "cell_type": "markdown",
   "metadata": {},
   "source": [
    "## 2. Parse training data\n",
    "\n",
    "The training data is stored in three files.\n",
    "\n",
    "We concatenate the data from these files into a single pandas DataFrame."
   ]
  },
  {
   "cell_type": "code",
   "execution_count": 2,
   "metadata": {},
   "outputs": [],
   "source": [
    "csv_df = pd.read_csv(\"train_csv.csv\")\n",
    "json_df = pd.read_json(\"train_json.json\")\n",
    "xlsx_df = pd.read_excel(\"train_excel.xlsx\")"
   ]
  },
  {
   "cell_type": "code",
   "execution_count": 3,
   "metadata": {
    "scrolled": false
   },
   "outputs": [
    {
     "name": "stdout",
     "output_type": "stream",
     "text": [
      "Number of records in CSV: 15001\n",
      "Number of records in JSON: 6400\n",
      "Number of records in Excel: 4999\n"
     ]
    }
   ],
   "source": [
    "print(\"Number of records in CSV:\", csv_df.shape[0])\n",
    "print(\"Number of records in JSON:\", json_df.shape[0])\n",
    "print(\"Number of records in Excel:\", xlsx_df.shape[0])"
   ]
  },
  {
   "cell_type": "code",
   "execution_count": 4,
   "metadata": {},
   "outputs": [
    {
     "name": "stdout",
     "output_type": "stream",
     "text": [
      "Total number of records in training data: 26400\n"
     ]
    }
   ],
   "source": [
    "# Concatenate the data from the 3 sources to a single pandas DataFrame.\n",
    "train_df = pd.concat([csv_df, json_df, xlsx_df])\n",
    "print(\"Total number of records in training data:\", train_df.shape[0])"
   ]
  },
  {
   "cell_type": "markdown",
   "metadata": {},
   "source": [
    "We look at the training data."
   ]
  },
  {
   "cell_type": "code",
   "execution_count": 5,
   "metadata": {},
   "outputs": [
    {
     "data": {
      "text/html": [
       "<div>\n",
       "<style scoped>\n",
       "    .dataframe tbody tr th:only-of-type {\n",
       "        vertical-align: middle;\n",
       "    }\n",
       "\n",
       "    .dataframe tbody tr th {\n",
       "        vertical-align: top;\n",
       "    }\n",
       "\n",
       "    .dataframe thead th {\n",
       "        text-align: right;\n",
       "    }\n",
       "</style>\n",
       "<table border=\"1\" class=\"dataframe\">\n",
       "  <thead>\n",
       "    <tr style=\"text-align: right;\">\n",
       "      <th></th>\n",
       "      <th>tweet</th>\n",
       "      <th>label</th>\n",
       "    </tr>\n",
       "  </thead>\n",
       "  <tbody>\n",
       "    <tr>\n",
       "      <th>2031</th>\n",
       "      <td>b'RT @map2271: Waverly Decorator Quilt Fabric: Chefs Cooking Baker - Available on #Etsy https://t.co/4eqmmxAdgg\\n#shopsmall #HodgePodgePam #RO\\xe2\\x80\\xa6'</td>\n",
       "      <td>Covid</td>\n",
       "    </tr>\n",
       "    <tr>\n",
       "      <th>2015</th>\n",
       "      <td>b'LAUNCH!  NOW!  What are you waiting for???\\n\\xf0\\x9f\\x8c\\x8a\\xf0\\x9f\\x98\\xb7#WednesdayWisdom #LGBTQ \\xf0\\x9f\\x8f\\xb3\\xef\\xb8\\x8f\\xe2\\x80\\x8d\\xf0\\x9f\\x8c\\x88 #NOH8 #Resist #FBR #Grassroots #tweetuk\\xe2\\x80\\xa6 https://t.co/gCnrpwTJ4H'</td>\n",
       "      <td>BLM</td>\n",
       "    </tr>\n",
       "    <tr>\n",
       "      <th>12579</th>\n",
       "      <td>#Trump is the ONLY one who can save us from #Twitter and #Facebook's censorship. Imagine if #Biden wins? He will owe it to Big Tech and will do everything is his power to give them control over our society and this country.</td>\n",
       "      <td>Biden</td>\n",
       "    </tr>\n",
       "    <tr>\n",
       "      <th>4431</th>\n",
       "      <td>b'RT @LingWooLiu: Today @GoogleDoodles is honoring the man behind the mask: my great grandfather, Dr. Wu Lien-teh! An exciting spotlight on a\\xe2\\x80\\xa6'</td>\n",
       "      <td>Covid</td>\n",
       "    </tr>\n",
       "    <tr>\n",
       "      <th>346</th>\n",
       "      <td>b'Better Together World! #PiggyBackPositivity #BLM #MaskUp #StaySafe #unlearn #SeeTheGood #BeTheGood\\xe2\\x80\\xa6 https://t.co/vQ7qcox5cu'</td>\n",
       "      <td>BLM</td>\n",
       "    </tr>\n",
       "    <tr>\n",
       "      <th>9071</th>\n",
       "      <td>Hijo menor de #Trump, Barron, dio positivo a #COVID19👉👉👉https://t.co/lT4UybUfn8 https://t.co/mdLGU6LQdk</td>\n",
       "      <td>Trump</td>\n",
       "    </tr>\n",
       "    <tr>\n",
       "      <th>4735</th>\n",
       "      <td>b'RT @msulibrary: Who: You!!\\nWhat: Cookies, Conversations, and Candidates.\\nWhen: March 17, 2021 11am-1pm\\nWhere: In front of the MSU Library.\\xe2\\x80\\xa6'</td>\n",
       "      <td>Covid</td>\n",
       "    </tr>\n",
       "    <tr>\n",
       "      <th>6536</th>\n",
       "      <td>@RealJamesWoods New York Post leak is probably from #Trump.  #Biden is one of the masterminds of Ukraine's slaughter of Maidan = #Clinton's takeover of #Ukraine, and the message is to be careful because he is trying to do the same in the United States in the wake of the US presidential election</td>\n",
       "      <td>Trump</td>\n",
       "    </tr>\n",
       "    <tr>\n",
       "      <th>150</th>\n",
       "      <td>b'RT @seiu_uhw: 300 healthcare workers at Victor Valley Global Medical Center just voted to join our union with a whopping 98% YES VOTE. Thes\\xe2\\x80\\xa6'</td>\n",
       "      <td>Covid</td>\n",
       "    </tr>\n",
       "    <tr>\n",
       "      <th>10942</th>\n",
       "      <td>@TeamTrump @realDonaldTrump Democlicans = Republicrats + nothing really\\n\\n\"They never do anything for us anyway, Nothing will fundamentally change”\\n\\nARE YOU BETTER OFF?\" SURPRISING POLL RESULTS!\\n\\n@TeamTrump #JoeBiden #DonaldTrump #NancyPelosi #MitchMcConnell #USABananaRepublic\\n\\nhttps://t.co/WmAJSuhyRj</td>\n",
       "      <td>Biden</td>\n",
       "    </tr>\n",
       "  </tbody>\n",
       "</table>\n",
       "</div>"
      ],
      "text/plain": [
       "                                                                                                                                                                                                                                                                                                                       tweet  \\\n",
       "2031                                                                                                                                                             b'RT @map2271: Waverly Decorator Quilt Fabric: Chefs Cooking Baker - Available on #Etsy https://t.co/4eqmmxAdgg\\n#shopsmall #HodgePodgePam #RO\\xe2\\x80\\xa6'   \n",
       "2015                                                                             b'LAUNCH!  NOW!  What are you waiting for???\\n\\xf0\\x9f\\x8c\\x8a\\xf0\\x9f\\x98\\xb7#WednesdayWisdom #LGBTQ \\xf0\\x9f\\x8f\\xb3\\xef\\xb8\\x8f\\xe2\\x80\\x8d\\xf0\\x9f\\x8c\\x88 #NOH8 #Resist #FBR #Grassroots #tweetuk\\xe2\\x80\\xa6 https://t.co/gCnrpwTJ4H'   \n",
       "12579                                                                                        #Trump is the ONLY one who can save us from #Twitter and #Facebook's censorship. Imagine if #Biden wins? He will owe it to Big Tech and will do everything is his power to give them control over our society and this country.   \n",
       "4431                                                                                                                                                              b'RT @LingWooLiu: Today @GoogleDoodles is honoring the man behind the mask: my great grandfather, Dr. Wu Lien-teh! An exciting spotlight on a\\xe2\\x80\\xa6'   \n",
       "346                                                                                                                                                                                b'Better Together World! #PiggyBackPositivity #BLM #MaskUp #StaySafe #unlearn #SeeTheGood #BeTheGood\\xe2\\x80\\xa6 https://t.co/vQ7qcox5cu'   \n",
       "9071                                                                                                                                                                                                                 Hijo menor de #Trump, Barron, dio positivo a #COVID19👉👉👉https://t.co/lT4UybUfn8 https://t.co/mdLGU6LQdk   \n",
       "4735                                                                                                                                                            b'RT @msulibrary: Who: You!!\\nWhat: Cookies, Conversations, and Candidates.\\nWhen: March 17, 2021 11am-1pm\\nWhere: In front of the MSU Library.\\xe2\\x80\\xa6'   \n",
       "6536                 @RealJamesWoods New York Post leak is probably from #Trump.  #Biden is one of the masterminds of Ukraine's slaughter of Maidan = #Clinton's takeover of #Ukraine, and the message is to be careful because he is trying to do the same in the United States in the wake of the US presidential election   \n",
       "150                                                                                                                                                               b'RT @seiu_uhw: 300 healthcare workers at Victor Valley Global Medical Center just voted to join our union with a whopping 98% YES VOTE. Thes\\xe2\\x80\\xa6'   \n",
       "10942  @TeamTrump @realDonaldTrump Democlicans = Republicrats + nothing really\\n\\n\"They never do anything for us anyway, Nothing will fundamentally change”\\n\\nARE YOU BETTER OFF?\" SURPRISING POLL RESULTS!\\n\\n@TeamTrump #JoeBiden #DonaldTrump #NancyPelosi #MitchMcConnell #USABananaRepublic\\n\\nhttps://t.co/WmAJSuhyRj   \n",
       "\n",
       "       label  \n",
       "2031   Covid  \n",
       "2015     BLM  \n",
       "12579  Biden  \n",
       "4431   Covid  \n",
       "346      BLM  \n",
       "9071   Trump  \n",
       "4735   Covid  \n",
       "6536   Trump  \n",
       "150    Covid  \n",
       "10942  Biden  "
      ]
     },
     "execution_count": 5,
     "metadata": {},
     "output_type": "execute_result"
    }
   ],
   "source": [
    "train_df.sample(10)"
   ]
  },
  {
   "cell_type": "code",
   "execution_count": 6,
   "metadata": {
    "scrolled": true
   },
   "outputs": [
    {
     "data": {
      "text/html": [
       "<div>\n",
       "<style scoped>\n",
       "    .dataframe tbody tr th:only-of-type {\n",
       "        vertical-align: middle;\n",
       "    }\n",
       "\n",
       "    .dataframe tbody tr th {\n",
       "        vertical-align: top;\n",
       "    }\n",
       "\n",
       "    .dataframe thead th {\n",
       "        text-align: right;\n",
       "    }\n",
       "</style>\n",
       "<table border=\"1\" class=\"dataframe\">\n",
       "  <thead>\n",
       "    <tr style=\"text-align: right;\">\n",
       "      <th></th>\n",
       "      <th>tweet</th>\n",
       "      <th>label</th>\n",
       "    </tr>\n",
       "  </thead>\n",
       "  <tbody>\n",
       "    <tr>\n",
       "      <th>count</th>\n",
       "      <td>26399</td>\n",
       "      <td>26400</td>\n",
       "    </tr>\n",
       "    <tr>\n",
       "      <th>unique</th>\n",
       "      <td>25587</td>\n",
       "      <td>5</td>\n",
       "    </tr>\n",
       "    <tr>\n",
       "      <th>top</th>\n",
       "      <td>b'RT @TalbertSwan: Taylor Enterline, 21, Arrested at a peaceful #BlackLivesMatter protest in PA - $1 Million Bond\\n\\nRiley Williams, 22 #Capito\\xe2\\x80\\xa6'</td>\n",
       "      <td>Covid</td>\n",
       "    </tr>\n",
       "    <tr>\n",
       "      <th>freq</th>\n",
       "      <td>2</td>\n",
       "      <td>9000</td>\n",
       "    </tr>\n",
       "  </tbody>\n",
       "</table>\n",
       "</div>"
      ],
      "text/plain": [
       "                                                                                                                                                               tweet  \\\n",
       "count                                                                                                                                                          26399   \n",
       "unique                                                                                                                                                         25587   \n",
       "top     b'RT @TalbertSwan: Taylor Enterline, 21, Arrested at a peaceful #BlackLivesMatter protest in PA - $1 Million Bond\\n\\nRiley Williams, 22 #Capito\\xe2\\x80\\xa6'   \n",
       "freq                                                                                                                                                               2   \n",
       "\n",
       "        label  \n",
       "count   26400  \n",
       "unique      5  \n",
       "top     Covid  \n",
       "freq     9000  "
      ]
     },
     "execution_count": 6,
     "metadata": {},
     "output_type": "execute_result"
    }
   ],
   "source": [
    "train_df.describe()"
   ]
  },
  {
   "cell_type": "markdown",
   "metadata": {},
   "source": [
    "There are 5 unique values for the `label` column."
   ]
  },
  {
   "cell_type": "code",
   "execution_count": 7,
   "metadata": {},
   "outputs": [
    {
     "name": "stdout",
     "output_type": "stream",
     "text": [
      "['BLM' 'Trump' 'Biden' 'Covid' 'Riots']\n"
     ]
    }
   ],
   "source": [
    "print(train_df[\"label\"].unique())"
   ]
  },
  {
   "cell_type": "markdown",
   "metadata": {},
   "source": [
    "We observe that there are 26400 records but there are 26399 `count` values in the `tweet` column."
   ]
  },
  {
   "cell_type": "code",
   "execution_count": 8,
   "metadata": {
    "scrolled": true
   },
   "outputs": [
    {
     "data": {
      "text/html": [
       "<div>\n",
       "<style scoped>\n",
       "    .dataframe tbody tr th:only-of-type {\n",
       "        vertical-align: middle;\n",
       "    }\n",
       "\n",
       "    .dataframe tbody tr th {\n",
       "        vertical-align: top;\n",
       "    }\n",
       "\n",
       "    .dataframe thead th {\n",
       "        text-align: right;\n",
       "    }\n",
       "</style>\n",
       "<table border=\"1\" class=\"dataframe\">\n",
       "  <thead>\n",
       "    <tr style=\"text-align: right;\">\n",
       "      <th></th>\n",
       "      <th>tweet</th>\n",
       "      <th>label</th>\n",
       "    </tr>\n",
       "  </thead>\n",
       "  <tbody>\n",
       "    <tr>\n",
       "      <th>10175</th>\n",
       "      <td>NaN</td>\n",
       "      <td>Biden</td>\n",
       "    </tr>\n",
       "  </tbody>\n",
       "</table>\n",
       "</div>"
      ],
      "text/plain": [
       "      tweet  label\n",
       "10175   NaN  Biden"
      ]
     },
     "execution_count": 8,
     "metadata": {},
     "output_type": "execute_result"
    }
   ],
   "source": [
    "train_df[train_df[\"tweet\"].isnull()]"
   ]
  },
  {
   "cell_type": "markdown",
   "metadata": {},
   "source": [
    "This record is not useful for training, thus we drop this record."
   ]
  },
  {
   "cell_type": "code",
   "execution_count": 9,
   "metadata": {
    "scrolled": true
   },
   "outputs": [
    {
     "name": "stdout",
     "output_type": "stream",
     "text": [
      "Total number of records in training data: 26399\n"
     ]
    }
   ],
   "source": [
    "train_df.dropna(how=\"any\", inplace=True)\n",
    "print(\"Total number of records in training data:\", train_df.shape[0])"
   ]
  },
  {
   "cell_type": "markdown",
   "metadata": {},
   "source": [
    "## 3. Data wrangling\n",
    "\n",
    "Some of the tweets are expressed in bytes literal. We need to perform literal evaluation **only** on the tweets that are expressed in bytes literal."
   ]
  },
  {
   "cell_type": "code",
   "execution_count": 10,
   "metadata": {},
   "outputs": [],
   "source": [
    "raw_tweet_regex = r\"\"\"(?x)\n",
    "    # Starts with either b' or b\"\n",
    "    (?:b['\"])\n",
    "    # Any characters (greedy)\n",
    "    (.*)\n",
    "    # Ends with either the ' or \" character\n",
    "    (?:['\"])\n",
    "\"\"\"\n",
    "\n",
    "raw_tweet_obj_regex = re.compile(raw_tweet_regex)"
   ]
  },
  {
   "cell_type": "markdown",
   "metadata": {},
   "source": [
    "We define a function that checks if the tweet record is expressed in bytes literal, and if so, decode this tweet to a proper string."
   ]
  },
  {
   "cell_type": "code",
   "execution_count": 11,
   "metadata": {},
   "outputs": [],
   "source": [
    "def wrangle_text(tweet):\n",
    "    regex_match = raw_tweet_obj_regex.findall(tweet)\n",
    "    if len(regex_match) > 0: # if string is bytes literal, return decoded string\n",
    "        return ast.literal_eval(tweet).decode(\"utf-8\")\n",
    "    else: # normal string\n",
    "        return tweet"
   ]
  },
  {
   "cell_type": "markdown",
   "metadata": {},
   "source": [
    "We test this with an example."
   ]
  },
  {
   "cell_type": "code",
   "execution_count": 12,
   "metadata": {},
   "outputs": [
    {
     "name": "stdout",
     "output_type": "stream",
     "text": [
      "Raw tweet:\n",
      "b\"Reporting 58 new cases, 5 new hospitalizations, and 0 deaths. Today's #COVID19 figures for Medina County: 13,662 cu\\xe2\\x80\\xa6 https://t.co/E19gzssGeT\"\n",
      "\n",
      "Wrangled tweet:\n",
      "Reporting 58 new cases, 5 new hospitalizations, and 0 deaths. Today's #COVID19 figures for Medina County: 13,662 cu… https://t.co/E19gzssGeT\n"
     ]
    }
   ],
   "source": [
    "test_tweet = json_df.iloc[0][\"tweet\"]\n",
    "print(\"Raw tweet:\\n\", test_tweet, sep=\"\")\n",
    "wrangled_tweet = wrangle_text(test_tweet)\n",
    "print(\"\\nWrangled tweet:\\n\", wrangled_tweet, sep=\"\")"
   ]
  },
  {
   "cell_type": "markdown",
   "metadata": {},
   "source": [
    "Now we perform this to the entire training dataset."
   ]
  },
  {
   "cell_type": "code",
   "execution_count": 13,
   "metadata": {},
   "outputs": [],
   "source": [
    "train_df[\"tweet_wrangled\"] = train_df[\"tweet\"].apply(wrangle_text)\n",
    "wrangled_train_df = train_df.drop([\"tweet\"], axis=1)"
   ]
  },
  {
   "cell_type": "code",
   "execution_count": 14,
   "metadata": {},
   "outputs": [
    {
     "data": {
      "text/html": [
       "<div>\n",
       "<style scoped>\n",
       "    .dataframe tbody tr th:only-of-type {\n",
       "        vertical-align: middle;\n",
       "    }\n",
       "\n",
       "    .dataframe tbody tr th {\n",
       "        vertical-align: top;\n",
       "    }\n",
       "\n",
       "    .dataframe thead th {\n",
       "        text-align: right;\n",
       "    }\n",
       "</style>\n",
       "<table border=\"1\" class=\"dataframe\">\n",
       "  <thead>\n",
       "    <tr style=\"text-align: right;\">\n",
       "      <th></th>\n",
       "      <th>label</th>\n",
       "      <th>tweet_wrangled</th>\n",
       "    </tr>\n",
       "  </thead>\n",
       "  <tbody>\n",
       "    <tr>\n",
       "      <th>0</th>\n",
       "      <td>BLM</td>\n",
       "      <td>Silencing #BLM : Priti Patel’s anti-protest law - @IanDunt on how a Government keen to 'tackle cancel culture' when… https://t.co/O7TvlOBkro</td>\n",
       "    </tr>\n",
       "    <tr>\n",
       "      <th>1</th>\n",
       "      <td>BLM</td>\n",
       "      <td>@Trillian42_ @Johnbok5 @NadiaWhittomeMP \"'Silly little woke lefty'. Mostly Harmless. Rebel Scum. Gamer. Intersectio… https://t.co/jdhjYk75bM</td>\n",
       "    </tr>\n",
       "    <tr>\n",
       "      <th>2</th>\n",
       "      <td>BLM</td>\n",
       "      <td>RT @ErrolWebber: Tell me, would this be considered \"Racist?”\\n\\nDo people who support #BLM think this is OK? https://t.co/DuwAbLJghP</td>\n",
       "    </tr>\n",
       "    <tr>\n",
       "      <th>3</th>\n",
       "      <td>BLM</td>\n",
       "      <td>@APPLE won't let Parler have an App but still keeps @TWitter Who allows all manner of provoking violence with vario… https://t.co/zFNX8KLFhF</td>\n",
       "    </tr>\n",
       "    <tr>\n",
       "      <th>4</th>\n",
       "      <td>BLM</td>\n",
       "      <td>@malika_andrews @wojespn Can we get #JLM trending. Maybe the NBA can put that on the b-ball court and have ALL jers… https://t.co/OE2PQk42FQ</td>\n",
       "    </tr>\n",
       "  </tbody>\n",
       "</table>\n",
       "</div>"
      ],
      "text/plain": [
       "  label  \\\n",
       "0   BLM   \n",
       "1   BLM   \n",
       "2   BLM   \n",
       "3   BLM   \n",
       "4   BLM   \n",
       "\n",
       "                                                                                                                                 tweet_wrangled  \n",
       "0  Silencing #BLM : Priti Patel’s anti-protest law - @IanDunt on how a Government keen to 'tackle cancel culture' when… https://t.co/O7TvlOBkro  \n",
       "1  @Trillian42_ @Johnbok5 @NadiaWhittomeMP \"'Silly little woke lefty'. Mostly Harmless. Rebel Scum. Gamer. Intersectio… https://t.co/jdhjYk75bM  \n",
       "2          RT @ErrolWebber: Tell me, would this be considered \"Racist?”\\n\\nDo people who support #BLM think this is OK? https://t.co/DuwAbLJghP  \n",
       "3  @APPLE won't let Parler have an App but still keeps @TWitter Who allows all manner of provoking violence with vario… https://t.co/zFNX8KLFhF  \n",
       "4  @malika_andrews @wojespn Can we get #JLM trending. Maybe the NBA can put that on the b-ball court and have ALL jers… https://t.co/OE2PQk42FQ  "
      ]
     },
     "execution_count": 14,
     "metadata": {},
     "output_type": "execute_result"
    }
   ],
   "source": [
    "wrangled_train_df.head(5)"
   ]
  },
  {
   "cell_type": "markdown",
   "metadata": {},
   "source": [
    "We drop duplicated tweets."
   ]
  },
  {
   "cell_type": "code",
   "execution_count": 15,
   "metadata": {},
   "outputs": [
    {
     "name": "stdout",
     "output_type": "stream",
     "text": [
      "26177\n"
     ]
    }
   ],
   "source": [
    "wrangled_train_df.drop_duplicates(inplace=True)\n",
    "print(wrangled_train_df.shape[0])"
   ]
  },
  {
   "cell_type": "markdown",
   "metadata": {},
   "source": [
    "## 4. Data pre-processing\n",
    "\n",
    "Now we perform data pre-processing so that it can be used to train classification algorithms."
   ]
  },
  {
   "cell_type": "markdown",
   "metadata": {},
   "source": [
    "### 4.1 Tokenization using TweetTokenizer\n",
    "\n",
    "We also convert the text to lowercase."
   ]
  },
  {
   "cell_type": "code",
   "execution_count": 16,
   "metadata": {},
   "outputs": [],
   "source": [
    "tokenizer = TweetTokenizer()\n",
    "# tokenize and also convert text to lowercase\n",
    "wrangled_train_df[\"tokens\"] = wrangled_train_df[\"tweet_wrangled\"].apply(lambda x: tokenizer.tokenize(x.lower())) "
   ]
  },
  {
   "cell_type": "markdown",
   "metadata": {},
   "source": [
    "### 4.2 Remove stopwords, URLs, percentages, punctuations, numbers"
   ]
  },
  {
   "cell_type": "markdown",
   "metadata": {},
   "source": [
    "Remove stopwords, URLs, percentages, punctuations, and numbers as they do not have any meaningfulness when training."
   ]
  },
  {
   "cell_type": "code",
   "execution_count": 17,
   "metadata": {},
   "outputs": [],
   "source": [
    "en_stopwords = stopwords.words(\"english\") # We use the English stopwords from NLTK\n",
    "\n",
    "# Regex for URLs, percentages, punctuations, and numbers\n",
    "url_regex = r\"^http(s*):\\/\\/\"\n",
    "curr_perc_regex = r\"(?:[A-Z]{1,3})?[\\$£€¥]?(?:\\d{1,3},)*\\d{1,3}(?:\\.\\d+)?\"\n",
    "punctuations_regex = r\"([^\\w\\s]{1})\\B\"\n",
    "numbers_regex = r\"[0-9]+((\\.[0-9]+)*)\"\n",
    "\n",
    "url_regex_obj = re.compile(url_regex)\n",
    "curr_perc_regex_obj = re.compile(curr_perc_regex)\n",
    "punctuations_regex_obj = re.compile(punctuations_regex)\n",
    "numbers_regex_obj = re.compile(numbers_regex)"
   ]
  },
  {
   "cell_type": "code",
   "execution_count": 18,
   "metadata": {},
   "outputs": [],
   "source": [
    "# New column containing tokens after the removal\n",
    "wrangled_train_df[\"processed_tokens\"] = wrangled_train_df[\"tokens\"].apply(\n",
    "    lambda x: [token for token in x if ((token not in en_stopwords) \n",
    "                                        and not (url_regex_obj.match(token) \n",
    "                                                 or curr_perc_regex_obj.match(token) \n",
    "                                                 or punctuations_regex_obj.match(token)\n",
    "                                                 or numbers_regex_obj.match(token)))\n",
    "              ])"
   ]
  },
  {
   "cell_type": "code",
   "execution_count": 19,
   "metadata": {
    "scrolled": true
   },
   "outputs": [
    {
     "data": {
      "text/html": [
       "<div>\n",
       "<style scoped>\n",
       "    .dataframe tbody tr th:only-of-type {\n",
       "        vertical-align: middle;\n",
       "    }\n",
       "\n",
       "    .dataframe tbody tr th {\n",
       "        vertical-align: top;\n",
       "    }\n",
       "\n",
       "    .dataframe thead th {\n",
       "        text-align: right;\n",
       "    }\n",
       "</style>\n",
       "<table border=\"1\" class=\"dataframe\">\n",
       "  <thead>\n",
       "    <tr style=\"text-align: right;\">\n",
       "      <th></th>\n",
       "      <th>label</th>\n",
       "      <th>tweet_wrangled</th>\n",
       "      <th>tokens</th>\n",
       "      <th>processed_tokens</th>\n",
       "    </tr>\n",
       "  </thead>\n",
       "  <tbody>\n",
       "    <tr>\n",
       "      <th>0</th>\n",
       "      <td>BLM</td>\n",
       "      <td>Silencing #BLM : Priti Patel’s anti-protest law - @IanDunt on how a Government keen to 'tackle cancel culture' when… https://t.co/O7TvlOBkro</td>\n",
       "      <td>[silencing, #blm, :, priti, patel, ’, s, anti-protest, law, -, @iandunt, on, how, a, government, keen, to, ', tackle, cancel, culture, ', when, …, https://t.co/o7tvlobkro]</td>\n",
       "      <td>[silencing, #blm, priti, patel, anti-protest, law, @iandunt, government, keen, tackle, cancel, culture]</td>\n",
       "    </tr>\n",
       "    <tr>\n",
       "      <th>1</th>\n",
       "      <td>BLM</td>\n",
       "      <td>@Trillian42_ @Johnbok5 @NadiaWhittomeMP \"'Silly little woke lefty'. Mostly Harmless. Rebel Scum. Gamer. Intersectio… https://t.co/jdhjYk75bM</td>\n",
       "      <td>[@trillian42_, @johnbok5, @nadiawhittomemp, \", ', silly, little, woke, lefty, ', ., mostly, harmless, ., rebel, scum, ., gamer, ., intersectio, …, https://t.co/jdhjyk75bm]</td>\n",
       "      <td>[@trillian42_, @johnbok5, @nadiawhittomemp, silly, little, woke, lefty, mostly, harmless, rebel, scum, gamer, intersectio]</td>\n",
       "    </tr>\n",
       "    <tr>\n",
       "      <th>2</th>\n",
       "      <td>BLM</td>\n",
       "      <td>RT @ErrolWebber: Tell me, would this be considered \"Racist?”\\n\\nDo people who support #BLM think this is OK? https://t.co/DuwAbLJghP</td>\n",
       "      <td>[rt, @errolwebber, :, tell, me, ,, would, this, be, considered, \", racist, ?, ”, do, people, who, support, #blm, think, this, is, ok, ?, https://t.co/duwabljghp]</td>\n",
       "      <td>[rt, @errolwebber, tell, would, considered, racist, people, support, #blm, think, ok]</td>\n",
       "    </tr>\n",
       "    <tr>\n",
       "      <th>3</th>\n",
       "      <td>BLM</td>\n",
       "      <td>@APPLE won't let Parler have an App but still keeps @TWitter Who allows all manner of provoking violence with vario… https://t.co/zFNX8KLFhF</td>\n",
       "      <td>[@apple, won't, let, parler, have, an, app, but, still, keeps, @twitter, who, allows, all, manner, of, provoking, violence, with, vario, …, https://t.co/zfnx8klfhf]</td>\n",
       "      <td>[@apple, let, parler, app, still, keeps, @twitter, allows, manner, provoking, violence, vario]</td>\n",
       "    </tr>\n",
       "    <tr>\n",
       "      <th>4</th>\n",
       "      <td>BLM</td>\n",
       "      <td>@malika_andrews @wojespn Can we get #JLM trending. Maybe the NBA can put that on the b-ball court and have ALL jers… https://t.co/OE2PQk42FQ</td>\n",
       "      <td>[@malika_andrews, @wojespn, can, we, get, #jlm, trending, ., maybe, the, nba, can, put, that, on, the, b-ball, court, and, have, all, jers, …, https://t.co/oe2pqk42fq]</td>\n",
       "      <td>[@malika_andrews, @wojespn, get, #jlm, trending, maybe, nba, put, b-ball, court, jers]</td>\n",
       "    </tr>\n",
       "  </tbody>\n",
       "</table>\n",
       "</div>"
      ],
      "text/plain": [
       "  label  \\\n",
       "0   BLM   \n",
       "1   BLM   \n",
       "2   BLM   \n",
       "3   BLM   \n",
       "4   BLM   \n",
       "\n",
       "                                                                                                                                 tweet_wrangled  \\\n",
       "0  Silencing #BLM : Priti Patel’s anti-protest law - @IanDunt on how a Government keen to 'tackle cancel culture' when… https://t.co/O7TvlOBkro   \n",
       "1  @Trillian42_ @Johnbok5 @NadiaWhittomeMP \"'Silly little woke lefty'. Mostly Harmless. Rebel Scum. Gamer. Intersectio… https://t.co/jdhjYk75bM   \n",
       "2          RT @ErrolWebber: Tell me, would this be considered \"Racist?”\\n\\nDo people who support #BLM think this is OK? https://t.co/DuwAbLJghP   \n",
       "3  @APPLE won't let Parler have an App but still keeps @TWitter Who allows all manner of provoking violence with vario… https://t.co/zFNX8KLFhF   \n",
       "4  @malika_andrews @wojespn Can we get #JLM trending. Maybe the NBA can put that on the b-ball court and have ALL jers… https://t.co/OE2PQk42FQ   \n",
       "\n",
       "                                                                                                                                                                        tokens  \\\n",
       "0  [silencing, #blm, :, priti, patel, ’, s, anti-protest, law, -, @iandunt, on, how, a, government, keen, to, ', tackle, cancel, culture, ', when, …, https://t.co/o7tvlobkro]   \n",
       "1  [@trillian42_, @johnbok5, @nadiawhittomemp, \", ', silly, little, woke, lefty, ', ., mostly, harmless, ., rebel, scum, ., gamer, ., intersectio, …, https://t.co/jdhjyk75bm]   \n",
       "2            [rt, @errolwebber, :, tell, me, ,, would, this, be, considered, \", racist, ?, ”, do, people, who, support, #blm, think, this, is, ok, ?, https://t.co/duwabljghp]   \n",
       "3         [@apple, won't, let, parler, have, an, app, but, still, keeps, @twitter, who, allows, all, manner, of, provoking, violence, with, vario, …, https://t.co/zfnx8klfhf]   \n",
       "4      [@malika_andrews, @wojespn, can, we, get, #jlm, trending, ., maybe, the, nba, can, put, that, on, the, b-ball, court, and, have, all, jers, …, https://t.co/oe2pqk42fq]   \n",
       "\n",
       "                                                                                                             processed_tokens  \n",
       "0                     [silencing, #blm, priti, patel, anti-protest, law, @iandunt, government, keen, tackle, cancel, culture]  \n",
       "1  [@trillian42_, @johnbok5, @nadiawhittomemp, silly, little, woke, lefty, mostly, harmless, rebel, scum, gamer, intersectio]  \n",
       "2                                       [rt, @errolwebber, tell, would, considered, racist, people, support, #blm, think, ok]  \n",
       "3                              [@apple, let, parler, app, still, keeps, @twitter, allows, manner, provoking, violence, vario]  \n",
       "4                                      [@malika_andrews, @wojespn, get, #jlm, trending, maybe, nba, put, b-ball, court, jers]  "
      ]
     },
     "execution_count": 19,
     "metadata": {},
     "output_type": "execute_result"
    }
   ],
   "source": [
    "wrangled_train_df.head(5)"
   ]
  },
  {
   "cell_type": "markdown",
   "metadata": {},
   "source": [
    "### 4.3 Stemming\n",
    "\n",
    "We use the PorterStemmer to perform stemming on the tokens."
   ]
  },
  {
   "cell_type": "code",
   "execution_count": 20,
   "metadata": {},
   "outputs": [],
   "source": [
    "stemmer = PorterStemmer()\n",
    "wrangled_train_df[\"processed_tokens\"] = wrangled_train_df[\"processed_tokens\"].apply(lambda x: [stemmer.stem(token) for token in x])"
   ]
  },
  {
   "cell_type": "code",
   "execution_count": 21,
   "metadata": {
    "scrolled": true
   },
   "outputs": [
    {
     "data": {
      "text/html": [
       "<div>\n",
       "<style scoped>\n",
       "    .dataframe tbody tr th:only-of-type {\n",
       "        vertical-align: middle;\n",
       "    }\n",
       "\n",
       "    .dataframe tbody tr th {\n",
       "        vertical-align: top;\n",
       "    }\n",
       "\n",
       "    .dataframe thead th {\n",
       "        text-align: right;\n",
       "    }\n",
       "</style>\n",
       "<table border=\"1\" class=\"dataframe\">\n",
       "  <thead>\n",
       "    <tr style=\"text-align: right;\">\n",
       "      <th></th>\n",
       "      <th>label</th>\n",
       "      <th>tweet_wrangled</th>\n",
       "      <th>tokens</th>\n",
       "      <th>processed_tokens</th>\n",
       "    </tr>\n",
       "  </thead>\n",
       "  <tbody>\n",
       "    <tr>\n",
       "      <th>0</th>\n",
       "      <td>BLM</td>\n",
       "      <td>Silencing #BLM : Priti Patel’s anti-protest law - @IanDunt on how a Government keen to 'tackle cancel culture' when… https://t.co/O7TvlOBkro</td>\n",
       "      <td>[silencing, #blm, :, priti, patel, ’, s, anti-protest, law, -, @iandunt, on, how, a, government, keen, to, ', tackle, cancel, culture, ', when, …, https://t.co/o7tvlobkro]</td>\n",
       "      <td>[silenc, #blm, priti, patel, anti-protest, law, @iandunt, govern, keen, tackl, cancel, cultur]</td>\n",
       "    </tr>\n",
       "    <tr>\n",
       "      <th>1</th>\n",
       "      <td>BLM</td>\n",
       "      <td>@Trillian42_ @Johnbok5 @NadiaWhittomeMP \"'Silly little woke lefty'. Mostly Harmless. Rebel Scum. Gamer. Intersectio… https://t.co/jdhjYk75bM</td>\n",
       "      <td>[@trillian42_, @johnbok5, @nadiawhittomemp, \", ', silly, little, woke, lefty, ', ., mostly, harmless, ., rebel, scum, ., gamer, ., intersectio, …, https://t.co/jdhjyk75bm]</td>\n",
       "      <td>[@trillian42_, @johnbok5, @nadiawhittomemp, silli, littl, woke, lefti, mostli, harmless, rebel, scum, gamer, intersectio]</td>\n",
       "    </tr>\n",
       "    <tr>\n",
       "      <th>2</th>\n",
       "      <td>BLM</td>\n",
       "      <td>RT @ErrolWebber: Tell me, would this be considered \"Racist?”\\n\\nDo people who support #BLM think this is OK? https://t.co/DuwAbLJghP</td>\n",
       "      <td>[rt, @errolwebber, :, tell, me, ,, would, this, be, considered, \", racist, ?, ”, do, people, who, support, #blm, think, this, is, ok, ?, https://t.co/duwabljghp]</td>\n",
       "      <td>[rt, @errolwebb, tell, would, consid, racist, peopl, support, #blm, think, ok]</td>\n",
       "    </tr>\n",
       "    <tr>\n",
       "      <th>3</th>\n",
       "      <td>BLM</td>\n",
       "      <td>@APPLE won't let Parler have an App but still keeps @TWitter Who allows all manner of provoking violence with vario… https://t.co/zFNX8KLFhF</td>\n",
       "      <td>[@apple, won't, let, parler, have, an, app, but, still, keeps, @twitter, who, allows, all, manner, of, provoking, violence, with, vario, …, https://t.co/zfnx8klfhf]</td>\n",
       "      <td>[@appl, let, parler, app, still, keep, @twitter, allow, manner, provok, violenc, vario]</td>\n",
       "    </tr>\n",
       "    <tr>\n",
       "      <th>4</th>\n",
       "      <td>BLM</td>\n",
       "      <td>@malika_andrews @wojespn Can we get #JLM trending. Maybe the NBA can put that on the b-ball court and have ALL jers… https://t.co/OE2PQk42FQ</td>\n",
       "      <td>[@malika_andrews, @wojespn, can, we, get, #jlm, trending, ., maybe, the, nba, can, put, that, on, the, b-ball, court, and, have, all, jers, …, https://t.co/oe2pqk42fq]</td>\n",
       "      <td>[@malika_andrew, @wojespn, get, #jlm, trend, mayb, nba, put, b-ball, court, jer]</td>\n",
       "    </tr>\n",
       "  </tbody>\n",
       "</table>\n",
       "</div>"
      ],
      "text/plain": [
       "  label  \\\n",
       "0   BLM   \n",
       "1   BLM   \n",
       "2   BLM   \n",
       "3   BLM   \n",
       "4   BLM   \n",
       "\n",
       "                                                                                                                                 tweet_wrangled  \\\n",
       "0  Silencing #BLM : Priti Patel’s anti-protest law - @IanDunt on how a Government keen to 'tackle cancel culture' when… https://t.co/O7TvlOBkro   \n",
       "1  @Trillian42_ @Johnbok5 @NadiaWhittomeMP \"'Silly little woke lefty'. Mostly Harmless. Rebel Scum. Gamer. Intersectio… https://t.co/jdhjYk75bM   \n",
       "2          RT @ErrolWebber: Tell me, would this be considered \"Racist?”\\n\\nDo people who support #BLM think this is OK? https://t.co/DuwAbLJghP   \n",
       "3  @APPLE won't let Parler have an App but still keeps @TWitter Who allows all manner of provoking violence with vario… https://t.co/zFNX8KLFhF   \n",
       "4  @malika_andrews @wojespn Can we get #JLM trending. Maybe the NBA can put that on the b-ball court and have ALL jers… https://t.co/OE2PQk42FQ   \n",
       "\n",
       "                                                                                                                                                                        tokens  \\\n",
       "0  [silencing, #blm, :, priti, patel, ’, s, anti-protest, law, -, @iandunt, on, how, a, government, keen, to, ', tackle, cancel, culture, ', when, …, https://t.co/o7tvlobkro]   \n",
       "1  [@trillian42_, @johnbok5, @nadiawhittomemp, \", ', silly, little, woke, lefty, ', ., mostly, harmless, ., rebel, scum, ., gamer, ., intersectio, …, https://t.co/jdhjyk75bm]   \n",
       "2            [rt, @errolwebber, :, tell, me, ,, would, this, be, considered, \", racist, ?, ”, do, people, who, support, #blm, think, this, is, ok, ?, https://t.co/duwabljghp]   \n",
       "3         [@apple, won't, let, parler, have, an, app, but, still, keeps, @twitter, who, allows, all, manner, of, provoking, violence, with, vario, …, https://t.co/zfnx8klfhf]   \n",
       "4      [@malika_andrews, @wojespn, can, we, get, #jlm, trending, ., maybe, the, nba, can, put, that, on, the, b-ball, court, and, have, all, jers, …, https://t.co/oe2pqk42fq]   \n",
       "\n",
       "                                                                                                            processed_tokens  \n",
       "0                             [silenc, #blm, priti, patel, anti-protest, law, @iandunt, govern, keen, tackl, cancel, cultur]  \n",
       "1  [@trillian42_, @johnbok5, @nadiawhittomemp, silli, littl, woke, lefti, mostli, harmless, rebel, scum, gamer, intersectio]  \n",
       "2                                             [rt, @errolwebb, tell, would, consid, racist, peopl, support, #blm, think, ok]  \n",
       "3                                    [@appl, let, parler, app, still, keep, @twitter, allow, manner, provok, violenc, vario]  \n",
       "4                                           [@malika_andrew, @wojespn, get, #jlm, trend, mayb, nba, put, b-ball, court, jer]  "
      ]
     },
     "execution_count": 21,
     "metadata": {},
     "output_type": "execute_result"
    }
   ],
   "source": [
    "wrangled_train_df.head(5)"
   ]
  },
  {
   "cell_type": "markdown",
   "metadata": {},
   "source": [
    "### 4.4 Corpus\n",
    "\n",
    "Now we can develop the corpus of each tweet."
   ]
  },
  {
   "cell_type": "code",
   "execution_count": 22,
   "metadata": {},
   "outputs": [],
   "source": [
    "# join each token with a space character to form a corpus\n",
    "wrangled_train_df[\"corpus\"] = wrangled_train_df[\"processed_tokens\"].apply(lambda x: \" \".join(x))"
   ]
  },
  {
   "cell_type": "code",
   "execution_count": 23,
   "metadata": {
    "scrolled": true
   },
   "outputs": [
    {
     "data": {
      "text/html": [
       "<div>\n",
       "<style scoped>\n",
       "    .dataframe tbody tr th:only-of-type {\n",
       "        vertical-align: middle;\n",
       "    }\n",
       "\n",
       "    .dataframe tbody tr th {\n",
       "        vertical-align: top;\n",
       "    }\n",
       "\n",
       "    .dataframe thead th {\n",
       "        text-align: right;\n",
       "    }\n",
       "</style>\n",
       "<table border=\"1\" class=\"dataframe\">\n",
       "  <thead>\n",
       "    <tr style=\"text-align: right;\">\n",
       "      <th></th>\n",
       "      <th>label</th>\n",
       "      <th>tweet_wrangled</th>\n",
       "      <th>tokens</th>\n",
       "      <th>processed_tokens</th>\n",
       "      <th>corpus</th>\n",
       "    </tr>\n",
       "  </thead>\n",
       "  <tbody>\n",
       "    <tr>\n",
       "      <th>0</th>\n",
       "      <td>BLM</td>\n",
       "      <td>Silencing #BLM : Priti Patel’s anti-protest law - @IanDunt on how a Government keen to 'tackle cancel culture' when… https://t.co/O7TvlOBkro</td>\n",
       "      <td>[silencing, #blm, :, priti, patel, ’, s, anti-protest, law, -, @iandunt, on, how, a, government, keen, to, ', tackle, cancel, culture, ', when, …, https://t.co/o7tvlobkro]</td>\n",
       "      <td>[silenc, #blm, priti, patel, anti-protest, law, @iandunt, govern, keen, tackl, cancel, cultur]</td>\n",
       "      <td>silenc #blm priti patel anti-protest law @iandunt govern keen tackl cancel cultur</td>\n",
       "    </tr>\n",
       "    <tr>\n",
       "      <th>1</th>\n",
       "      <td>BLM</td>\n",
       "      <td>@Trillian42_ @Johnbok5 @NadiaWhittomeMP \"'Silly little woke lefty'. Mostly Harmless. Rebel Scum. Gamer. Intersectio… https://t.co/jdhjYk75bM</td>\n",
       "      <td>[@trillian42_, @johnbok5, @nadiawhittomemp, \", ', silly, little, woke, lefty, ', ., mostly, harmless, ., rebel, scum, ., gamer, ., intersectio, …, https://t.co/jdhjyk75bm]</td>\n",
       "      <td>[@trillian42_, @johnbok5, @nadiawhittomemp, silli, littl, woke, lefti, mostli, harmless, rebel, scum, gamer, intersectio]</td>\n",
       "      <td>@trillian42_ @johnbok5 @nadiawhittomemp silli littl woke lefti mostli harmless rebel scum gamer intersectio</td>\n",
       "    </tr>\n",
       "    <tr>\n",
       "      <th>2</th>\n",
       "      <td>BLM</td>\n",
       "      <td>RT @ErrolWebber: Tell me, would this be considered \"Racist?”\\n\\nDo people who support #BLM think this is OK? https://t.co/DuwAbLJghP</td>\n",
       "      <td>[rt, @errolwebber, :, tell, me, ,, would, this, be, considered, \", racist, ?, ”, do, people, who, support, #blm, think, this, is, ok, ?, https://t.co/duwabljghp]</td>\n",
       "      <td>[rt, @errolwebb, tell, would, consid, racist, peopl, support, #blm, think, ok]</td>\n",
       "      <td>rt @errolwebb tell would consid racist peopl support #blm think ok</td>\n",
       "    </tr>\n",
       "    <tr>\n",
       "      <th>3</th>\n",
       "      <td>BLM</td>\n",
       "      <td>@APPLE won't let Parler have an App but still keeps @TWitter Who allows all manner of provoking violence with vario… https://t.co/zFNX8KLFhF</td>\n",
       "      <td>[@apple, won't, let, parler, have, an, app, but, still, keeps, @twitter, who, allows, all, manner, of, provoking, violence, with, vario, …, https://t.co/zfnx8klfhf]</td>\n",
       "      <td>[@appl, let, parler, app, still, keep, @twitter, allow, manner, provok, violenc, vario]</td>\n",
       "      <td>@appl let parler app still keep @twitter allow manner provok violenc vario</td>\n",
       "    </tr>\n",
       "    <tr>\n",
       "      <th>4</th>\n",
       "      <td>BLM</td>\n",
       "      <td>@malika_andrews @wojespn Can we get #JLM trending. Maybe the NBA can put that on the b-ball court and have ALL jers… https://t.co/OE2PQk42FQ</td>\n",
       "      <td>[@malika_andrews, @wojespn, can, we, get, #jlm, trending, ., maybe, the, nba, can, put, that, on, the, b-ball, court, and, have, all, jers, …, https://t.co/oe2pqk42fq]</td>\n",
       "      <td>[@malika_andrew, @wojespn, get, #jlm, trend, mayb, nba, put, b-ball, court, jer]</td>\n",
       "      <td>@malika_andrew @wojespn get #jlm trend mayb nba put b-ball court jer</td>\n",
       "    </tr>\n",
       "  </tbody>\n",
       "</table>\n",
       "</div>"
      ],
      "text/plain": [
       "  label  \\\n",
       "0   BLM   \n",
       "1   BLM   \n",
       "2   BLM   \n",
       "3   BLM   \n",
       "4   BLM   \n",
       "\n",
       "                                                                                                                                 tweet_wrangled  \\\n",
       "0  Silencing #BLM : Priti Patel’s anti-protest law - @IanDunt on how a Government keen to 'tackle cancel culture' when… https://t.co/O7TvlOBkro   \n",
       "1  @Trillian42_ @Johnbok5 @NadiaWhittomeMP \"'Silly little woke lefty'. Mostly Harmless. Rebel Scum. Gamer. Intersectio… https://t.co/jdhjYk75bM   \n",
       "2          RT @ErrolWebber: Tell me, would this be considered \"Racist?”\\n\\nDo people who support #BLM think this is OK? https://t.co/DuwAbLJghP   \n",
       "3  @APPLE won't let Parler have an App but still keeps @TWitter Who allows all manner of provoking violence with vario… https://t.co/zFNX8KLFhF   \n",
       "4  @malika_andrews @wojespn Can we get #JLM trending. Maybe the NBA can put that on the b-ball court and have ALL jers… https://t.co/OE2PQk42FQ   \n",
       "\n",
       "                                                                                                                                                                        tokens  \\\n",
       "0  [silencing, #blm, :, priti, patel, ’, s, anti-protest, law, -, @iandunt, on, how, a, government, keen, to, ', tackle, cancel, culture, ', when, …, https://t.co/o7tvlobkro]   \n",
       "1  [@trillian42_, @johnbok5, @nadiawhittomemp, \", ', silly, little, woke, lefty, ', ., mostly, harmless, ., rebel, scum, ., gamer, ., intersectio, …, https://t.co/jdhjyk75bm]   \n",
       "2            [rt, @errolwebber, :, tell, me, ,, would, this, be, considered, \", racist, ?, ”, do, people, who, support, #blm, think, this, is, ok, ?, https://t.co/duwabljghp]   \n",
       "3         [@apple, won't, let, parler, have, an, app, but, still, keeps, @twitter, who, allows, all, manner, of, provoking, violence, with, vario, …, https://t.co/zfnx8klfhf]   \n",
       "4      [@malika_andrews, @wojespn, can, we, get, #jlm, trending, ., maybe, the, nba, can, put, that, on, the, b-ball, court, and, have, all, jers, …, https://t.co/oe2pqk42fq]   \n",
       "\n",
       "                                                                                                            processed_tokens  \\\n",
       "0                             [silenc, #blm, priti, patel, anti-protest, law, @iandunt, govern, keen, tackl, cancel, cultur]   \n",
       "1  [@trillian42_, @johnbok5, @nadiawhittomemp, silli, littl, woke, lefti, mostli, harmless, rebel, scum, gamer, intersectio]   \n",
       "2                                             [rt, @errolwebb, tell, would, consid, racist, peopl, support, #blm, think, ok]   \n",
       "3                                    [@appl, let, parler, app, still, keep, @twitter, allow, manner, provok, violenc, vario]   \n",
       "4                                           [@malika_andrew, @wojespn, get, #jlm, trend, mayb, nba, put, b-ball, court, jer]   \n",
       "\n",
       "                                                                                                        corpus  \n",
       "0                            silenc #blm priti patel anti-protest law @iandunt govern keen tackl cancel cultur  \n",
       "1  @trillian42_ @johnbok5 @nadiawhittomemp silli littl woke lefti mostli harmless rebel scum gamer intersectio  \n",
       "2                                           rt @errolwebb tell would consid racist peopl support #blm think ok  \n",
       "3                                   @appl let parler app still keep @twitter allow manner provok violenc vario  \n",
       "4                                         @malika_andrew @wojespn get #jlm trend mayb nba put b-ball court jer  "
      ]
     },
     "execution_count": 23,
     "metadata": {},
     "output_type": "execute_result"
    }
   ],
   "source": [
    "wrangled_train_df.head(5)"
   ]
  },
  {
   "cell_type": "markdown",
   "metadata": {},
   "source": [
    "## 5. Develop pipelines for training\n",
    "\n",
    "We use the TfidfVectorizer (which uses the tf-idf measure) for vectorization and the following algorithms to train models:\n",
    "- SVC (support vector machine)\n",
    "- LinearSVC (support vecotr machine)\n",
    "- SGDClassifier (stochastic gradient descent)"
   ]
  },
  {
   "cell_type": "code",
   "execution_count": 24,
   "metadata": {},
   "outputs": [],
   "source": [
    "# vectorizer instance\n",
    "tfidf_vectorizer = TfidfVectorizer()\n",
    "\n",
    "# ML classification algorithm instances\n",
    "svmClassifier = SVC(max_iter=1000)\n",
    "lsvmClassifier = LinearSVC(max_iter=1000)\n",
    "mlpClassifier = MLPClassifier(max_iter=500)\n",
    "sgdClassifier = SGDClassifier(max_iter=1000)\n",
    "\n",
    "# Create pipelines\n",
    "pipeline = Pipeline([(\"tfidf\", tfidf_vectorizer),\n",
    "                    (\"svm\", svmClassifier)])\n",
    "pipeline2 = Pipeline([(\"tfidf\", tfidf_vectorizer),\n",
    "                    (\"lsvm\", lsvmClassifier)])\n",
    "# pipeline3 = Pipeline([(\"tfidf\", tfidf_vectorizer),\n",
    "#                     (\"mlp\", mlpClassifier)])\n",
    "pipeline4 = Pipeline([(\"tfidf\", tfidf_vectorizer),\n",
    "                    (\"sgd\", sgdClassifier)])"
   ]
  },
  {
   "cell_type": "code",
   "execution_count": 25,
   "metadata": {},
   "outputs": [],
   "source": [
    "def trainPipelineAndPredict(pipeline, train_features, train_label, test_features, test_label):\n",
    "    # fit training data to pipeline\n",
    "    pipeline.fit(train_features, train_label)\n",
    "    \n",
    "    # Predict on training data and testing data for evaluation\n",
    "    predictions_train = pipeline.predict(train_features)\n",
    "    predictions_test = pipeline.predict(test_features)\n",
    "    \n",
    "    # Evaluate accuracy values\n",
    "    training_accuracy = accuracy_score(train_label, predictions_train)\n",
    "    testing_accuracy = accuracy_score(test_label, predictions_test)\n",
    "    \n",
    "    return (training_accuracy, testing_accuracy)"
   ]
  },
  {
   "cell_type": "code",
   "execution_count": 26,
   "metadata": {},
   "outputs": [],
   "source": [
    "X_train, X_test, y_train, y_test = train_test_split(wrangled_train_df[\"corpus\"], wrangled_train_df[\"label\"], test_size=0.2) "
   ]
  },
  {
   "cell_type": "markdown",
   "metadata": {},
   "source": [
    "We use each algorithm to evaluate the accuracy values."
   ]
  },
  {
   "cell_type": "code",
   "execution_count": 27,
   "metadata": {},
   "outputs": [
    {
     "name": "stderr",
     "output_type": "stream",
     "text": [
      "C:\\Users\\Zac\\Anaconda3\\lib\\site-packages\\sklearn\\svm\\_base.py:246: ConvergenceWarning: Solver terminated early (max_iter=1000).  Consider pre-processing your data with StandardScaler or MinMaxScaler.\n",
      "  warnings.warn('Solver terminated early (max_iter=%i).'\n"
     ]
    },
    {
     "data": {
      "text/plain": [
       "(0.9783200420228261, 0.8869365928189458)"
      ]
     },
     "execution_count": 27,
     "metadata": {},
     "output_type": "execute_result"
    }
   ],
   "source": [
    "trainPipelineAndPredict(pipeline, X_train, y_train, X_test, y_test)"
   ]
  },
  {
   "cell_type": "code",
   "execution_count": 28,
   "metadata": {},
   "outputs": [
    {
     "data": {
      "text/plain": [
       "(0.9776992502745809, 0.8890374331550802)"
      ]
     },
     "execution_count": 28,
     "metadata": {},
     "output_type": "execute_result"
    }
   ],
   "source": [
    "trainPipelineAndPredict(pipeline2, X_train, y_train, X_test, y_test)"
   ]
  },
  {
   "cell_type": "code",
   "execution_count": 29,
   "metadata": {},
   "outputs": [
    {
     "data": {
      "text/plain": [
       "(0.9514827372140776, 0.8926661573720397)"
      ]
     },
     "execution_count": 29,
     "metadata": {},
     "output_type": "execute_result"
    }
   ],
   "source": [
    "trainPipelineAndPredict(pipeline4, X_train, y_train, X_test, y_test)"
   ]
  },
  {
   "cell_type": "markdown",
   "metadata": {},
   "source": [
    "## 6. Repeat steps 2 to 5 on testing data\n",
    "\n",
    "### 6.1 Parse testing data\n",
    "\n",
    "Similar to [step 2](#2.-Parse-training-data)."
   ]
  },
  {
   "cell_type": "code",
   "execution_count": 30,
   "metadata": {
    "scrolled": true
   },
   "outputs": [
    {
     "data": {
      "text/html": [
       "<div>\n",
       "<style scoped>\n",
       "    .dataframe tbody tr th:only-of-type {\n",
       "        vertical-align: middle;\n",
       "    }\n",
       "\n",
       "    .dataframe tbody tr th {\n",
       "        vertical-align: top;\n",
       "    }\n",
       "\n",
       "    .dataframe thead th {\n",
       "        text-align: right;\n",
       "    }\n",
       "</style>\n",
       "<table border=\"1\" class=\"dataframe\">\n",
       "  <thead>\n",
       "    <tr style=\"text-align: right;\">\n",
       "      <th></th>\n",
       "      <th>Train_id</th>\n",
       "      <th>tweet</th>\n",
       "    </tr>\n",
       "  </thead>\n",
       "  <tbody>\n",
       "    <tr>\n",
       "      <th>3637</th>\n",
       "      <td>3638</td>\n",
       "      <td>b'RT @Consumers_Kenya: Kenya records 337 new #COVID19 cases from 2,924 samples, total cases now 109,164. 53 patients have recovered, 32 from\\xe2\\x80\\xa6'</td>\n",
       "    </tr>\n",
       "    <tr>\n",
       "      <th>3433</th>\n",
       "      <td>3434</td>\n",
       "      <td>b'Flu cases have markedly decreased this season. It is not a coincidence. Common sense COVID precautions must be part\\xe2\\x80\\xa6 https://t.co/vg9cMEWCEq'</td>\n",
       "    </tr>\n",
       "    <tr>\n",
       "      <th>2261</th>\n",
       "      <td>2262</td>\n",
       "      <td>#Trump sul palco è tornato a ruggire. #Biden invece non sa dove andare https://t.co/Blpvn8pjww</td>\n",
       "    </tr>\n",
       "    <tr>\n",
       "      <th>5124</th>\n",
       "      <td>5125</td>\n",
       "      <td>b'RT @JohnPersinos1: In the End, it Was Trump Who Threatened America with Terrorism https://t.co/8vFt3ejgU3 #GOPComplicitTraitors #CapitolRio\\xe2\\x80\\xa6'</td>\n",
       "    </tr>\n",
       "    <tr>\n",
       "      <th>3356</th>\n",
       "      <td>3357</td>\n",
       "      <td>b'#Leralla\\nTrain to Elandsfontein departed from Leralla Station \\nFirst stopping station is Limindlela Station\\xe2\\x80\\xa6 https://t.co/47LyauHhUR'</td>\n",
       "    </tr>\n",
       "    <tr>\n",
       "      <th>3137</th>\n",
       "      <td>3138</td>\n",
       "      <td>b'I can assure you that Spring Break Super Spreaders is not what you think it is. #covidspringbreak #WearAMask #covidisreal'</td>\n",
       "    </tr>\n",
       "    <tr>\n",
       "      <th>5804</th>\n",
       "      <td>5805</td>\n",
       "      <td>b'Blatant corruption &amp;amp; a betrayal to the people of #Florida. Anything goes with #GOP! #Sedition #CapitolRiots Using e\\xe2\\x80\\xa6 https://t.co/73mB9I50tw'</td>\n",
       "    </tr>\n",
       "    <tr>\n",
       "      <th>3876</th>\n",
       "      <td>3877</td>\n",
       "      <td>b'RT @CTZebra: Becky \"Darlene\" Myhand, 55yo  LPN, Care Center of Aberdeen, MS, died of #covid19 7/12. \\nShe enjoyed British TV, reading and se\\xe2\\x80\\xa6'</td>\n",
       "    </tr>\n",
       "    <tr>\n",
       "      <th>3513</th>\n",
       "      <td>3514</td>\n",
       "      <td>b'To see how our masks are manufactured check out the video on our website here: \\nhttps://t.co/QeKADogNPQ\\xe2\\x80\\xa6 https://t.co/NVa4ftA762'</td>\n",
       "    </tr>\n",
       "    <tr>\n",
       "      <th>2806</th>\n",
       "      <td>2807</td>\n",
       "      <td>#Facebook et #Twitter accusés d’avoir bloqué un article controversé sur #JoeBiden #Election2020 https://t.co/05aA5uzmF8</td>\n",
       "    </tr>\n",
       "  </tbody>\n",
       "</table>\n",
       "</div>"
      ],
      "text/plain": [
       "      Train_id  \\\n",
       "3637      3638   \n",
       "3433      3434   \n",
       "2261      2262   \n",
       "5124      5125   \n",
       "3356      3357   \n",
       "3137      3138   \n",
       "5804      5805   \n",
       "3876      3877   \n",
       "3513      3514   \n",
       "2806      2807   \n",
       "\n",
       "                                                                                                                                                               tweet  \n",
       "3637       b'RT @Consumers_Kenya: Kenya records 337 new #COVID19 cases from 2,924 samples, total cases now 109,164. 53 patients have recovered, 32 from\\xe2\\x80\\xa6'  \n",
       "3433      b'Flu cases have markedly decreased this season. It is not a coincidence. Common sense COVID precautions must be part\\xe2\\x80\\xa6 https://t.co/vg9cMEWCEq'  \n",
       "2261                                                                  #Trump sul palco è tornato a ruggire. #Biden invece non sa dove andare https://t.co/Blpvn8pjww  \n",
       "5124      b'RT @JohnPersinos1: In the End, it Was Trump Who Threatened America with Terrorism https://t.co/8vFt3ejgU3 #GOPComplicitTraitors #CapitolRio\\xe2\\x80\\xa6'  \n",
       "3356            b'#Leralla\\nTrain to Elandsfontein departed from Leralla Station \\nFirst stopping station is Limindlela Station\\xe2\\x80\\xa6 https://t.co/47LyauHhUR'  \n",
       "3137                                    b'I can assure you that Spring Break Super Spreaders is not what you think it is. #covidspringbreak #WearAMask #covidisreal'  \n",
       "5804  b'Blatant corruption &amp; a betrayal to the people of #Florida. Anything goes with #GOP! #Sedition #CapitolRiots Using e\\xe2\\x80\\xa6 https://t.co/73mB9I50tw'  \n",
       "3876     b'RT @CTZebra: Becky \"Darlene\" Myhand, 55yo  LPN, Care Center of Aberdeen, MS, died of #covid19 7/12. \\nShe enjoyed British TV, reading and se\\xe2\\x80\\xa6'  \n",
       "3513                 b'To see how our masks are manufactured check out the video on our website here: \\nhttps://t.co/QeKADogNPQ\\xe2\\x80\\xa6 https://t.co/NVa4ftA762'  \n",
       "2806                                         #Facebook et #Twitter accusés d’avoir bloqué un article controversé sur #JoeBiden #Election2020 https://t.co/05aA5uzmF8  "
      ]
     },
     "execution_count": 30,
     "metadata": {},
     "output_type": "execute_result"
    }
   ],
   "source": [
    "test_df = pd.read_csv(\"test_data_advanced.csv\")\n",
    "test_df.sample(10)"
   ]
  },
  {
   "cell_type": "markdown",
   "metadata": {},
   "source": [
    "### 6.2 Data wrangling on testing data\n",
    "\n",
    "Similar to [step 3](#3.-Data-wrangling)."
   ]
  },
  {
   "cell_type": "code",
   "execution_count": 31,
   "metadata": {},
   "outputs": [
    {
     "data": {
      "text/html": [
       "<div>\n",
       "<style scoped>\n",
       "    .dataframe tbody tr th:only-of-type {\n",
       "        vertical-align: middle;\n",
       "    }\n",
       "\n",
       "    .dataframe tbody tr th {\n",
       "        vertical-align: top;\n",
       "    }\n",
       "\n",
       "    .dataframe thead th {\n",
       "        text-align: right;\n",
       "    }\n",
       "</style>\n",
       "<table border=\"1\" class=\"dataframe\">\n",
       "  <thead>\n",
       "    <tr style=\"text-align: right;\">\n",
       "      <th></th>\n",
       "      <th>Train_id</th>\n",
       "      <th>tweet_wrangled</th>\n",
       "    </tr>\n",
       "  </thead>\n",
       "  <tbody>\n",
       "    <tr>\n",
       "      <th>2605</th>\n",
       "      <td>2606</td>\n",
       "      <td>#ElectionInterference \\n#HunterBiden \\n#JoeBiden \\n#NewYorkPost https://t.co/MNMCMJwYeG</td>\n",
       "    </tr>\n",
       "    <tr>\n",
       "      <th>5777</th>\n",
       "      <td>5778</td>\n",
       "      <td>Trump And The GE Parses The Capital Riots https://t.co/mK6yufVgoM  #CapitolRiots #insurrection #TrumpAndTheGE https://t.co/Mnf5unJS1D</td>\n",
       "    </tr>\n",
       "    <tr>\n",
       "      <th>1009</th>\n",
       "      <td>1010</td>\n",
       "      <td>YouGov's Social Change Monitor finds Black women are especially likely to have a high opinion of the… https://t.co/Wa1VjIWQRZ</td>\n",
       "    </tr>\n",
       "    <tr>\n",
       "      <th>5652</th>\n",
       "      <td>5653</td>\n",
       "      <td>How about republicans supported #CapitolRiots #ading #insurrectionists is it a criminalizing ? https://t.co/yPNwIXEIi9</td>\n",
       "    </tr>\n",
       "    <tr>\n",
       "      <th>3012</th>\n",
       "      <td>3013</td>\n",
       "      <td>#liars #HunterBiden #JoeBiden #CrookedJoeBiden #dirtbags #DemocratsAreDestroyingAmerica Joe Biden did not push out a Ukrainian prosecutor for investigating his son, The Washington Post confirms  https://t.co/dZgdqG3ZbM</td>\n",
       "    </tr>\n",
       "    <tr>\n",
       "      <th>3328</th>\n",
       "      <td>3329</td>\n",
       "      <td>RT @CTZebra: Darrell Robinson, 64yo Mental Health Counselor at Lake County Jail, Crown Point, Indiana. He was also a Bishop who strove to “…</td>\n",
       "    </tr>\n",
       "    <tr>\n",
       "      <th>139</th>\n",
       "      <td>140</td>\n",
       "      <td>RT @KNEEMAGGIO: I'm a black enby that is struggling to survive 😎 my birthday is so soon and i just need to eat and get to and from work and…</td>\n",
       "    </tr>\n",
       "    <tr>\n",
       "      <th>1778</th>\n",
       "      <td>1779</td>\n",
       "      <td>Why is a social media site CENSORING this news #twitter simply appalling leftist biased censorship #Biden #Trump https://t.co/RodgwPo462</td>\n",
       "    </tr>\n",
       "    <tr>\n",
       "      <th>821</th>\n",
       "      <td>822</td>\n",
       "      <td>RT @sabby_carter: Are you looking for a Graphic Designer? HMU or DM me, I can make any type of design as per your requirement at a fair pri…</td>\n",
       "    </tr>\n",
       "    <tr>\n",
       "      <th>1909</th>\n",
       "      <td>1910</td>\n",
       "      <td>Tak hanya Donald Trump dan sang istri yang terjangkit virus corona, anaknya yang bernama Barron Trump juga positif Covid-19. #KAMUHARUSTAU #BarronTrump #DonaldTrump #VirusCorona\\nhttps://t.co/sTnZLJdPHu</td>\n",
       "    </tr>\n",
       "  </tbody>\n",
       "</table>\n",
       "</div>"
      ],
      "text/plain": [
       "      Train_id  \\\n",
       "2605      2606   \n",
       "5777      5778   \n",
       "1009      1010   \n",
       "5652      5653   \n",
       "3012      3013   \n",
       "3328      3329   \n",
       "139        140   \n",
       "1778      1779   \n",
       "821        822   \n",
       "1909      1910   \n",
       "\n",
       "                                                                                                                                                                                                                  tweet_wrangled  \n",
       "2605                                                                                                                                     #ElectionInterference \\n#HunterBiden \\n#JoeBiden \\n#NewYorkPost https://t.co/MNMCMJwYeG  \n",
       "5777                                                                                       Trump And The GE Parses The Capital Riots https://t.co/mK6yufVgoM  #CapitolRiots #insurrection #TrumpAndTheGE https://t.co/Mnf5unJS1D  \n",
       "1009                                                                                               YouGov's Social Change Monitor finds Black women are especially likely to have a high opinion of the… https://t.co/Wa1VjIWQRZ  \n",
       "5652                                                                                                      How about republicans supported #CapitolRiots #ading #insurrectionists is it a criminalizing ? https://t.co/yPNwIXEIi9  \n",
       "3012  #liars #HunterBiden #JoeBiden #CrookedJoeBiden #dirtbags #DemocratsAreDestroyingAmerica Joe Biden did not push out a Ukrainian prosecutor for investigating his son, The Washington Post confirms  https://t.co/dZgdqG3ZbM  \n",
       "3328                                                                                RT @CTZebra: Darrell Robinson, 64yo Mental Health Counselor at Lake County Jail, Crown Point, Indiana. He was also a Bishop who strove to “…  \n",
       "139                                                                                 RT @KNEEMAGGIO: I'm a black enby that is struggling to survive 😎 my birthday is so soon and i just need to eat and get to and from work and…  \n",
       "1778                                                                                    Why is a social media site CENSORING this news #twitter simply appalling leftist biased censorship #Biden #Trump https://t.co/RodgwPo462  \n",
       "821                                                                                 RT @sabby_carter: Are you looking for a Graphic Designer? HMU or DM me, I can make any type of design as per your requirement at a fair pri…  \n",
       "1909                  Tak hanya Donald Trump dan sang istri yang terjangkit virus corona, anaknya yang bernama Barron Trump juga positif Covid-19. #KAMUHARUSTAU #BarronTrump #DonaldTrump #VirusCorona\\nhttps://t.co/sTnZLJdPHu  "
      ]
     },
     "execution_count": 31,
     "metadata": {},
     "output_type": "execute_result"
    }
   ],
   "source": [
    "test_df[\"tweet_wrangled\"] = test_df[\"tweet\"].apply(wrangle_text)\n",
    "wrangled_test_df = test_df.drop([\"tweet\"], axis=1)\n",
    "wrangled_test_df.sample(10)"
   ]
  },
  {
   "cell_type": "markdown",
   "metadata": {},
   "source": [
    "### 6.3 Pre-processing on testing data\n",
    "Similar to [step 4](#4.-Data-pre-processing).\n",
    "\n",
    "#### 6.3.1 Tokenization\n",
    "Similar to [step 4.1](#4.1-Tokenization-using-TweetTokenizer)"
   ]
  },
  {
   "cell_type": "code",
   "execution_count": 32,
   "metadata": {},
   "outputs": [],
   "source": [
    "# Tokenization\n",
    "wrangled_test_df[\"tokens\"] = wrangled_test_df[\"tweet_wrangled\"].apply(lambda x: tokenizer.tokenize(x.lower()))"
   ]
  },
  {
   "cell_type": "markdown",
   "metadata": {},
   "source": [
    "#### 6.3.2 Remove stopwords, URLs, percentages, punctuations, numbers\n",
    "\n",
    "Similar to [step 4.2](#4.2-Remove-stopwords,-URLs,-percentages,-punctuations,-numbers)"
   ]
  },
  {
   "cell_type": "code",
   "execution_count": 33,
   "metadata": {},
   "outputs": [],
   "source": [
    "# Remove stopwords, URLs, numbers, percentages, punctuations\n",
    "wrangled_test_df[\"processed_tokens\"] = wrangled_test_df[\"tokens\"].apply(\n",
    "    lambda x: [token for token in x if ((token not in en_stopwords) \n",
    "                                        and (len(token) > 2)\n",
    "                                        and not (url_regex_obj.match(token) \n",
    "                                                 or curr_perc_regex_obj.match(token) \n",
    "                                                 or punctuations_regex_obj.match(token)\n",
    "                                                 or numbers_regex_obj.match(token)))\n",
    "              ])"
   ]
  },
  {
   "cell_type": "markdown",
   "metadata": {},
   "source": [
    "#### 6.3.3 Stemming\n",
    "Similar to [step 4.3](#4.3-Stemming)."
   ]
  },
  {
   "cell_type": "code",
   "execution_count": 34,
   "metadata": {},
   "outputs": [],
   "source": [
    "# Apply stemming to each token\n",
    "wrangled_test_df[\"processed_tokens\"] = wrangled_test_df[\"processed_tokens\"].apply(lambda x: [stemmer.stem(token) for token in x])"
   ]
  },
  {
   "cell_type": "markdown",
   "metadata": {},
   "source": [
    "#### 6.3.4 Corpus\n",
    "Similar to [step 4.4](#4.4-Corpus)."
   ]
  },
  {
   "cell_type": "code",
   "execution_count": 35,
   "metadata": {},
   "outputs": [],
   "source": [
    "# Corpus of each tweet after stemming (joined by a single space)\n",
    "wrangled_test_df[\"corpus\"] = wrangled_test_df[\"processed_tokens\"].apply(lambda x: \" \".join(x))"
   ]
  },
  {
   "cell_type": "markdown",
   "metadata": {},
   "source": [
    "## 6.4 Predict testing labels\n",
    "We now use the entire training data on the pipelines and make predictions on the testing data."
   ]
  },
  {
   "cell_type": "code",
   "execution_count": 36,
   "metadata": {},
   "outputs": [],
   "source": [
    "def trainPipelineAndPredictTest(pipeline, train_features, train_label, test_features):\n",
    "    pipeline.fit(train_features, train_label) # Using training data to fit model\n",
    "    predictions_test = pipeline.predict(test_features) # Predict using testing data\n",
    "    \n",
    "    # For comparison purposes\n",
    "    predictions_train = pipeline.predict(train_features)\n",
    "    training_accuracy = accuracy_score(train_label, predictions_train)\n",
    "    print(training_accuracy)\n",
    "    \n",
    "    # Return the predicted labels\n",
    "    return predictions_test"
   ]
  },
  {
   "cell_type": "markdown",
   "metadata": {},
   "source": [
    "Now, we use the entire training set data to train the respective classification models and produce prediction labels on the testing data."
   ]
  },
  {
   "cell_type": "code",
   "execution_count": 37,
   "metadata": {},
   "outputs": [
    {
     "name": "stderr",
     "output_type": "stream",
     "text": [
      "C:\\Users\\Zac\\Anaconda3\\lib\\site-packages\\sklearn\\svm\\_base.py:246: ConvergenceWarning: Solver terminated early (max_iter=1000).  Consider pre-processing your data with StandardScaler or MinMaxScaler.\n",
      "  warnings.warn('Solver terminated early (max_iter=%i).'\n"
     ]
    },
    {
     "name": "stdout",
     "output_type": "stream",
     "text": [
      "0.974634220880926\n"
     ]
    }
   ],
   "source": [
    "predictions1 = trainPipelineAndPredictTest(pipeline, wrangled_train_df[\"corpus\"], wrangled_train_df[\"label\"], wrangled_test_df[\"corpus\"])"
   ]
  },
  {
   "cell_type": "code",
   "execution_count": 38,
   "metadata": {},
   "outputs": [
    {
     "name": "stdout",
     "output_type": "stream",
     "text": [
      "0.9737937884402338\n"
     ]
    }
   ],
   "source": [
    "predictions2 = trainPipelineAndPredictTest(pipeline2, wrangled_train_df[\"corpus\"], wrangled_train_df[\"label\"], wrangled_test_df[\"corpus\"])"
   ]
  },
  {
   "cell_type": "code",
   "execution_count": 39,
   "metadata": {},
   "outputs": [
    {
     "name": "stdout",
     "output_type": "stream",
     "text": [
      "0.9447224662871987\n"
     ]
    }
   ],
   "source": [
    "predictions4 = trainPipelineAndPredictTest(pipeline4, wrangled_train_df[\"corpus\"], wrangled_train_df[\"label\"], wrangled_test_df[\"corpus\"])"
   ]
  },
  {
   "cell_type": "markdown",
   "metadata": {},
   "source": [
    "## 7. Write outputs\n",
    "\n",
    "Now we assign the labels to the `label` column in the DataFrame, and write the predictions CSV file."
   ]
  },
  {
   "cell_type": "code",
   "execution_count": 40,
   "metadata": {},
   "outputs": [],
   "source": [
    "test_df[\"label\"] = predictions1"
   ]
  },
  {
   "cell_type": "code",
   "execution_count": 41,
   "metadata": {},
   "outputs": [],
   "source": [
    "test_df[[\"Train_id\", \"label\"]].to_csv(\"test_predictions.csv\", index=False, header=True, sep=\",\")"
   ]
  },
  {
   "cell_type": "code",
   "execution_count": 42,
   "metadata": {},
   "outputs": [],
   "source": [
    "test_df2 = test_df.copy()\n",
    "test_df2[\"label\"] = predictions2\n",
    "test_df2[[\"Train_id\", \"label\"]].to_csv(\"test_predictions2.csv\", index=False, header=True, sep=\",\")"
   ]
  },
  {
   "cell_type": "code",
   "execution_count": 43,
   "metadata": {},
   "outputs": [],
   "source": [
    "test_df4 = test_df.copy()\n",
    "test_df4[\"label\"] = predictions4\n",
    "test_df4[[\"Train_id\", \"label\"]].to_csv(\"test_predictions4.csv\", index=False, header=True, sep=\",\")"
   ]
  },
  {
   "cell_type": "markdown",
   "metadata": {},
   "source": [
    "--- End ---"
   ]
  }
 ],
 "metadata": {
  "kernelspec": {
   "display_name": "Python 3",
   "language": "python",
   "name": "python3"
  },
  "language_info": {
   "codemirror_mode": {
    "name": "ipython",
    "version": 3
   },
   "file_extension": ".py",
   "mimetype": "text/x-python",
   "name": "python",
   "nbconvert_exporter": "python",
   "pygments_lexer": "ipython3",
   "version": "3.8.5"
  }
 },
 "nbformat": 4,
 "nbformat_minor": 4
}
